{
 "cells": [
  {
   "cell_type": "code",
   "execution_count": 8,
   "metadata": {},
   "outputs": [],
   "source": [
    "a = torch.randn(2, 3)\n",
    "b = torch.randn(1, 4)"
   ]
  },
  {
   "cell_type": "code",
   "execution_count": 9,
   "metadata": {},
   "outputs": [
    {
     "data": {
      "text/plain": [
       "tensor([[ 0.6406,  0.6722, -0.6013],\n",
       "        [-0.6277,  2.7127,  1.9159]])"
      ]
     },
     "execution_count": 9,
     "metadata": {},
     "output_type": "execute_result"
    }
   ],
   "source": [
    "a"
   ]
  },
  {
   "cell_type": "code",
   "execution_count": 10,
   "metadata": {},
   "outputs": [
    {
     "data": {
      "text/plain": [
       "tensor([[-1.1906,  0.8922, -0.5574, -0.3694]])"
      ]
     },
     "execution_count": 10,
     "metadata": {},
     "output_type": "execute_result"
    }
   ],
   "source": [
    "b"
   ]
  },
  {
   "cell_type": "code",
   "execution_count": 12,
   "metadata": {},
   "outputs": [
    {
     "data": {
      "text/plain": [
       "tensor([[[[-0.7627,  0.5716, -0.3571, -0.2367],\n",
       "          [-0.8003,  0.5997, -0.3747, -0.2483],\n",
       "          [ 0.7159, -0.5365,  0.3352,  0.2221]]],\n",
       "\n",
       "\n",
       "        [[[ 0.7474, -0.5601,  0.3499,  0.2319],\n",
       "          [-3.2299,  2.4203, -1.5122, -1.0022],\n",
       "          [-2.2811,  1.7094, -1.0680, -0.7078]]]])"
      ]
     },
     "execution_count": 12,
     "metadata": {},
     "output_type": "execute_result"
    }
   ],
   "source": [
    "c = torch.einsum('ij, kl->ikjl', a, b)\n",
    "c"
   ]
  },
  {
   "cell_type": "code",
   "execution_count": 14,
   "metadata": {},
   "outputs": [
    {
     "data": {
      "text/plain": [
       "tensor([[-0.7627,  0.5716, -0.3571, -0.2367, -0.8003,  0.5997, -0.3747, -0.2483,\n",
       "          0.7159, -0.5365,  0.3352,  0.2221],\n",
       "        [ 0.7474, -0.5601,  0.3499,  0.2319, -3.2299,  2.4203, -1.5122, -1.0022,\n",
       "         -2.2811,  1.7094, -1.0680, -0.7078]])"
      ]
     },
     "execution_count": 14,
     "metadata": {},
     "output_type": "execute_result"
    }
   ],
   "source": [
    "c.reshape(2, 12)"
   ]
  },
  {
   "cell_type": "code",
   "execution_count": 15,
   "metadata": {},
   "outputs": [
    {
     "data": {
      "text/plain": [
       "array([[-0.7627399 ,  0.57156706, -0.35710365, -0.23666897, -0.80032015,\n",
       "         0.5997282 , -0.3746982 , -0.24832967,  0.7159272 , -0.53648746,\n",
       "         0.33518663,  0.22214356],\n",
       "       [ 0.74739164, -0.5600657 ,  0.34991786,  0.23190661, -3.2298667 ,\n",
       "         2.420334  , -1.5121764 , -1.0021887 , -2.2811198 ,  1.7093809 ,\n",
       "        -1.067987  , -0.70780396]], dtype=float32)"
      ]
     },
     "execution_count": 15,
     "metadata": {},
     "output_type": "execute_result"
    }
   ],
   "source": [
    "import numpy as np\n",
    "res = np.kron(a.numpy(), b.numpy()) \n",
    "res"
   ]
  }
 ],
 "metadata": {
  "kernelspec": {
   "display_name": "ilra",
   "language": "python",
   "name": "python3"
  },
  "language_info": {
   "codemirror_mode": {
    "name": "ipython",
    "version": 3
   },
   "file_extension": ".py",
   "mimetype": "text/x-python",
   "name": "python",
   "nbconvert_exporter": "python",
   "pygments_lexer": "ipython3",
   "version": "3.10.13"
  }
 },
 "nbformat": 4,
 "nbformat_minor": 2
}
